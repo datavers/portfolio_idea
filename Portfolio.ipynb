{
  "nbformat": 4,
  "nbformat_minor": 0,
  "metadata": {
    "colab": {
      "provenance": [],
      "authorship_tag": "ABX9TyPYd2D534XHXKnNi+soU7MB",
      "include_colab_link": true
    },
    "kernelspec": {
      "name": "python3",
      "display_name": "Python 3"
    },
    "language_info": {
      "name": "python"
    }
  },
  "cells": [
    {
      "cell_type": "markdown",
      "metadata": {
        "id": "view-in-github",
        "colab_type": "text"
      },
      "source": [
        "<a href=\"https://colab.research.google.com/github/datavers/portfolio_idea/blob/dataloading/Portfolio.ipynb\" target=\"_parent\"><img src=\"https://colab.research.google.com/assets/colab-badge.svg\" alt=\"Open In Colab\"/></a>"
      ]
    },
    {
      "cell_type": "code",
      "execution_count": null,
      "metadata": {
        "colab": {
          "base_uri": "https://localhost:8080/"
        },
        "id": "ne-3_spr1oQq",
        "outputId": "dbf0eab7-2350-4e85-9da0-8fe068d4656d"
      },
      "outputs": [
        {
          "output_type": "stream",
          "name": "stdout",
          "text": [
            "Cloning into 'portfolio_idea'...\n",
            "remote: Enumerating objects: 13, done.\u001b[K\n",
            "remote: Counting objects: 100% (13/13), done.\u001b[K\n",
            "remote: Compressing objects: 100% (10/10), done.\u001b[K\n",
            "remote: Total 13 (delta 1), reused 9 (delta 0), pack-reused 0\u001b[K\n",
            "Receiving objects: 100% (13/13), done.\n",
            "Resolving deltas: 100% (1/1), done.\n"
          ]
        }
      ],
      "source": [
        "! git clone https://github.com/datavers/portfolio_idea.git"
      ]
    },
    {
      "cell_type": "code",
      "source": [
        "! cd /content/portfolio_idea/"
      ],
      "metadata": {
        "id": "Cp7XLSZm3jQp"
      },
      "execution_count": null,
      "outputs": []
    },
    {
      "cell_type": "code",
      "source": [
        "import os"
      ],
      "metadata": {
        "id": "10zu_V5u3vQS"
      },
      "execution_count": 18,
      "outputs": []
    },
    {
      "cell_type": "code",
      "source": [
        "import pandas as pd\n",
        "import numpy as np\n",
        "\n",
        "import matplotlib.pyplot as plt"
      ],
      "metadata": {
        "id": "iGRQ7pV_5yVy"
      },
      "execution_count": 19,
      "outputs": []
    },
    {
      "cell_type": "code",
      "source": [
        "print(\"Jelenlegi munkakönyvtár:\", os.getcwd())"
      ],
      "metadata": {
        "id": "FjlTV3rU4qzu",
        "colab": {
          "base_uri": "https://localhost:8080/"
        },
        "outputId": "0e5d151f-8cc0-49f3-a47e-45c364b9b944"
      },
      "execution_count": 20,
      "outputs": [
        {
          "output_type": "stream",
          "name": "stdout",
          "text": [
            "Jelenlegi munkakönyvtár: /content\n"
          ]
        }
      ]
    },
    {
      "cell_type": "code",
      "source": [
        "os.chdir('/content/portfolio_idea/')"
      ],
      "metadata": {
        "id": "GZH3qq5Y6DCr"
      },
      "execution_count": 22,
      "outputs": []
    },
    {
      "cell_type": "code",
      "source": [
        "import yfinance as yf"
      ],
      "metadata": {
        "id": "u5XL7fgb6Wv6"
      },
      "execution_count": 24,
      "outputs": []
    },
    {
      "cell_type": "code",
      "source": [
        "! git"
      ],
      "metadata": {
        "id": "jJbR8m6D6b3E"
      },
      "execution_count": 26,
      "outputs": []
    },
    {
      "cell_type": "code",
      "source": [
        "! git branch -r"
      ],
      "metadata": {
        "colab": {
          "base_uri": "https://localhost:8080/"
        },
        "id": "QGoUDWl560zu",
        "outputId": "8f637aef-0900-4b59-cc37-209a9b831fb8"
      },
      "execution_count": 28,
      "outputs": [
        {
          "output_type": "stream",
          "name": "stdout",
          "text": [
            "  \u001b[31morigin/HEAD\u001b[m -> origin/main\n",
            "  \u001b[31morigin/dataloading\u001b[m\n",
            "  \u001b[31morigin/main\u001b[m\n"
          ]
        }
      ]
    },
    {
      "cell_type": "code",
      "source": [
        "! git switch dataloading"
      ],
      "metadata": {
        "colab": {
          "base_uri": "https://localhost:8080/"
        },
        "id": "VYnpwzIC7GWa",
        "outputId": "6ecee7d3-285f-4101-9405-af599281e182"
      },
      "execution_count": 29,
      "outputs": [
        {
          "output_type": "stream",
          "name": "stdout",
          "text": [
            "Branch 'dataloading' set up to track remote branch 'dataloading' from 'origin'.\n",
            "Switched to a new branch 'dataloading'\n"
          ]
        }
      ]
    },
    {
      "cell_type": "code",
      "source": [],
      "metadata": {
        "id": "JSYBvCqn7MR7"
      },
      "execution_count": null,
      "outputs": []
    }
  ]
}